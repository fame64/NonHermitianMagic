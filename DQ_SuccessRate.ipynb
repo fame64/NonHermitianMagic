{
 "cells": [
  {
   "cell_type": "markdown",
   "id": "caf088c7",
   "metadata": {},
   "source": [
    "# 2 (NH) Qubits. Entanglement enhancement by EP"
   ]
  },
  {
   "cell_type": "code",
   "execution_count": 9,
   "id": "746c1aa4",
   "metadata": {},
   "outputs": [],
   "source": [
    "from __future__ import division\n",
    "import numpy as np\n",
    "import matplotlib.pyplot as plt\n",
    "from numpy.linalg import eig, multi_dot, inv, matrix_power, eigh, eigvalsh, eigvals\n",
    "from scipy.optimize import curve_fit\n",
    "from matplotlib import rcParams\n",
    "import matplotlib.colors as colors\n",
    "import matplotlib as mpl\n",
    "mpl.rcParams['text.usetex'] = True\n",
    "mpl.rcParams['font.family'] = 'serif'\n",
    "mpl.rcParams['font.size']=18\n",
    "from scipy.linalg import expm, sqrtm, logm\n",
    "#from scipy.stats import linregress\n",
    "from math import acos, factorial\n",
    "import matplotlib.colors as colors\n",
    "from scipy.special import eval_genlaguerre, gamma, hyp1f1, erf, erfc, erfi, dawsn\n",
    "from mpl_toolkits.axes_grid1 import make_axes_locatable\n",
    "from mpl_toolkits.mplot3d import Axes3D"
   ]
  },
  {
   "cell_type": "code",
   "execution_count": 3,
   "id": "255caeeb",
   "metadata": {},
   "outputs": [],
   "source": [
    "def tildeSRE(rho):\n",
    "    #l0 = eval2(g, G)\n",
    "    #numer = (2*(4 - A(g,G)*l0 + l0**2)**4)/(16*l0**4 + (A(g,G) - l0)**4*l0**4 + (4 - A(g,G)*l0 + l0**2)**4)\n",
    "    #return np.log(numer)/np.log(2)\n",
    "    rx = np.real(rho[1,0])*2\n",
    "    ry = np.imag(rho[1,0])*2\n",
    "    rz = 2*rho[0,0]-1\n",
    "    return -np.log((1+rx**4+ry**4+rz**4)/(1+rx**2+ry**2+rz**2))/np.log(2)\n",
    "def ent_entropy(rho):\n",
    "    return -np.trace(rho@logm(rho))"
   ]
  },
  {
   "cell_type": "code",
   "execution_count": 4,
   "id": "d9405a2f",
   "metadata": {},
   "outputs": [],
   "source": [
    "σx = np.asarray([[0,1],[1,0]])\n",
    "σy = np.asarray([[0,-1j],[1j,0]])\n",
    "σz = np.asarray([[1,0],[0,-1]])\n",
    "Pe = np.asarray([[0,0],[0,1]])\n",
    "σp = np.asarray([[0,1],[0,0]])\n",
    "σm = np.asarray([[0,0],[1,0]])\n",
    "Id = np.asarray([[1,0],[0,1]])"
   ]
  },
  {
   "cell_type": "code",
   "execution_count": 5,
   "id": "6411e833",
   "metadata": {},
   "outputs": [],
   "source": [
    "def evol_SR_xy(Δ1, Γ1, Ω1, psi0, t_arr):\n",
    "    H = (Δ1 - 1j*Γ1/2)*Pe + Ω1*(σx+σy)/np.sqrt(2)\n",
    "    dt = t_arr[1]-t_arr[0]\n",
    "    propdt = expm(-1j*H*dt)\n",
    "    psi_t = np.zeros((2,len(t_arr)), dtype = complex)\n",
    "    psi_t[:,0] = psi0\n",
    "    SR_t = np.zeros(len(t_arr))\n",
    "    SR_t[0] = np.sum(np.abs(psi0)**2)\n",
    "    for n in range(1,len(t_arr)):\n",
    "        psi_unnorm = propdt@psi_t[:,n-1]\n",
    "        psi_t[:,n] = psi_unnorm\n",
    "        SR_t[n] = np.sum(np.abs(psi_unnorm)**2)\n",
    "    return SR_t\n",
    "def evol_SR_x(Δ1, Γ1, Ω1, psi0, t_arr):\n",
    "    H = (Δ1 - 1j*Γ1/2)*Pe + Ω1*(σx)\n",
    "    dt = t_arr[1]-t_arr[0]\n",
    "    propdt = expm(-1j*H*dt)\n",
    "    psi_t = np.zeros((2,len(t_arr)), dtype = complex)\n",
    "    psi_t[:,0] = psi0\n",
    "    SR_t = np.zeros(len(t_arr))\n",
    "    SR_t[0] = np.sum(np.abs(psi0)**2)\n",
    "    for n in range(1,len(t_arr)):\n",
    "        psi_unnorm = propdt@psi_t[:,n-1]\n",
    "        psi_t[:,n] = psi_unnorm\n",
    "        SR_t[n] = np.sum(np.abs(psi_unnorm)**2)\n",
    "    return SR_t"
   ]
  },
  {
   "cell_type": "code",
   "execution_count": 6,
   "id": "849637e3",
   "metadata": {},
   "outputs": [
    {
     "name": "stdout",
     "output_type": "stream",
     "text": [
      "0.9999999999999998\n"
     ]
    }
   ],
   "source": [
    "#Qubit 1\n",
    "Δ1 = 0\n",
    "Γ1_arr = np.linspace(2, 10, 500) #μs-1\n",
    "#Ω1 = Γ1/(2*np.sqrt(6)) #μs-1\n",
    "#Ω1 = Γ1/(2*2*np.sqrt(2)) #μs-1\n",
    "Ω1 = 1\n",
    "#Hs1 = (Δ1 - 1j*Γ1/2)*Pe + Ω1*(σx+σy)/np.sqrt(2)\n",
    "#H = np.kron(Hs1, Id) + np.kron(Id, Hs2) + J*(np.kron(σp, σm)+np.kron(σm, σp))\n",
    "#Initial state |ff>\n",
    "psi0 = np.asarray([1/np.sqrt(2), 1/np.sqrt(2)])\n",
    "#psi0 = np.asarray([(1+1j)/2, (1-1j)/2])\n",
    "print(np.sum(np.abs(psi0)**2))\n",
    "#psi0 = np.asarray([1,1,1,1])\n",
    "#psi0 = np.kron([np.exp(1j*np.pi/4),1]/np.sqrt(2), [1,0])\n",
    "#psi0 = np.kron([np.cos(np.pi/8),np.sin(np.pi/8)], [1,0])\n",
    "#psi0 = psi0/np.sqrt(np.sum(np.abs(psi0)**2))\n",
    "gap = np.sqrt(Γ1_arr**2-4*Ω1**2)"
   ]
  },
  {
   "cell_type": "code",
   "execution_count": 7,
   "id": "a28e89b3",
   "metadata": {},
   "outputs": [
    {
     "name": "stderr",
     "output_type": "stream",
     "text": [
      "<ipython-input-7-e7bb1a918a41>:8: RuntimeWarning: divide by zero encountered in double_scalars\n",
      "  t_arr = np.linspace(0, 1/gap[k], Nt)\n",
      "/Users/pablo.martinez/opt/anaconda3/lib/python3.8/site-packages/numpy/core/function_base.py:151: RuntimeWarning: invalid value encountered in multiply\n",
      "  y *= step\n",
      "<ipython-input-7-e7bb1a918a41>:13: RuntimeWarning: divide by zero encountered in double_scalars\n",
      "  t_arr2 = np.linspace(0, 2/gap[k], Nt)\n"
     ]
    }
   ],
   "source": [
    "#t_arr = np.linspace(0, 5, 200)\n",
    "Nt = 300\n",
    "SRinvgap_xy = np.zeros(len(Γ1_arr))\n",
    "SRinvgap_x = np.zeros(len(Γ1_arr))\n",
    "SRinvgap_xy2 = np.zeros(len(Γ1_arr))\n",
    "SRinvgap_x2 = np.zeros(len(Γ1_arr))\n",
    "for k in range(len(Γ1_arr)):\n",
    "    t_arr = np.linspace(0, 1/gap[k], Nt)\n",
    "    SR_xy = evol_SR_xy(Δ1, Γ1_arr[k], Ω1, psi0, t_arr)\n",
    "    SRinvgap_xy[k] = SR_xy[-1]\n",
    "    SR_x = evol_SR_x(Δ1, Γ1_arr[k], Ω1, psi0, t_arr)\n",
    "    SRinvgap_x[k] = SR_x[-1]\n",
    "    t_arr2 = np.linspace(0, 2/gap[k], Nt)\n",
    "    SR_xy2 = evol_SR_xy(Δ1, Γ1_arr[k], Ω1, psi0, t_arr2)\n",
    "    SRinvgap_xy2[k] = SR_xy2[-1]\n",
    "    SR_x2 = evol_SR_x(Δ1, Γ1_arr[k], Ω1, psi0, t_arr2)\n",
    "    SRinvgap_x2[k] = SR_x2[-1]"
   ]
  },
  {
   "cell_type": "code",
   "execution_count": 10,
   "id": "f8783f21",
   "metadata": {},
   "outputs": [
    {
     "name": "stdout",
     "output_type": "stream",
     "text": [
      "0.39843311802778014\n",
      "0.6117004409420155\n",
      "0.150184111227065\n",
      "0.4491240182099337\n"
     ]
    },
    {
     "data": {
      "image/png": "[encoded data removed]",
      "text/plain": [
       "<Figure size 360x216 with 1 Axes>"
      ]
     },
     "metadata": {
      "needs_background": "light"
     },
     "output_type": "display_data"
    }
   ],
   "source": [
    "plt.figure(figsize = [5, 3])\n",
    "#plt.plot(t_arr, SR)\n",
    "#plt.vlines(1/gap, 0,1)\n",
    "#plt.yscale('log')\n",
    "plt.plot(Γ1_arr, SRinvgap_xy, c = 'b')\n",
    "plt.plot(Γ1_arr, SRinvgap_x, c = 'r')\n",
    "idx_xy = np.argmin(np.abs(Γ1_arr-np.sqrt(6)))\n",
    "plt.vlines(Γ1_arr[idx_xy], 0, SRinvgap_xy[idx_xy], color = 'b', label=r\"xy $t=\\frac{1}{\\Delta}$\")\n",
    "print(SRinvgap_xy[idx_xy])\n",
    "idx_x = np.argmin(np.abs(Γ1_arr-np.sqrt(8)))\n",
    "plt.vlines(Γ1_arr[idx_x], 0, SRinvgap_x[idx_x], color = 'r', label=r\"x $t=\\frac{1}{\\Delta}$\")\n",
    "print(SRinvgap_x[idx_x])\n",
    "plt.plot(Γ1_arr, SRinvgap_xy2, c = 'b', linestyle = '--', label=r\"xy $t=\\frac{2}{\\Delta}$\")\n",
    "plt.plot(Γ1_arr, SRinvgap_x2, c= 'r', linestyle = '--', label=r\"x $t=\\frac{2}{\\Delta}$\")\n",
    "#plt.vlines(Γ1_arr[idx_xy], 0, SRinvgap_xy2[idx_xy], color = 'b', linestyle = '--')\n",
    "print(SRinvgap_xy2[idx_xy])\n",
    "#plt.vlines(Γ1_arr[idx_x], 0, SRinvgap_x2[idx_x], color = 'r', linestyle = '--')\n",
    "print(SRinvgap_x2[idx_x])\n",
    "#plt.vlines(2*np.sqrt(2), 0, SRinvgap_x[np.argmin(np.abs(Γ1_arr-2*np.sqrt(2)))])\n",
    "#plt.yscale('log')\n",
    "#plt.xscale('log')\n",
    "plt.xlabel(r\"$\\Gamma/J$\")\n",
    "plt.ylabel(r\"${\\rm SR}_{t}$\")\n",
    "plt.xlim(Γ1_arr[0], Γ1_arr[-1])\n",
    "plt.ylim(0,)\n",
    "plt.legend(labelspacing = 0)\n",
    "#plt.savefig(\"DQ_SuccesRate.pdf\", bbox_inches = 'tight')\n",
    "plt.show()"
   ]
  },
  {
   "cell_type": "code",
   "execution_count": null,
   "id": "e2aa49bb",
   "metadata": {},
   "outputs": [],
   "source": []
  },
  {
   "cell_type": "code",
   "execution_count": null,
   "id": "9e3a2943",
   "metadata": {},
   "outputs": [],
   "source": []
  }
 ],
 "metadata": {
  "kernelspec": {
   "display_name": "Python 3",
   "language": "python",
   "name": "python3"
  },
  "language_info": {
   "codemirror_mode": {
    "name": "ipython",
    "version": 3
   },
   "file_extension": ".py",
   "mimetype": "text/x-python",
   "name": "python",
   "nbconvert_exporter": "python",
   "pygments_lexer": "ipython3",
   "version": "3.8.8"
  }
 },
 "nbformat": 4,
 "nbformat_minor": 5
}
